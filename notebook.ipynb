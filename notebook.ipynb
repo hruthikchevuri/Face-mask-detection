{
 "cells": [
  {
   "cell_type": "code",
   "execution_count": 1,
   "metadata": {},
   "outputs": [],
   "source": [
    "import cv2\n",
    "import os\n",
    "import numpy as np\n",
    "import os\n",
    "from tensorflow import keras\n",
    "import threading\n",
    "from IPython.display import clear_output\n",
    "import time"
   ]
  },
  {
   "cell_type": "code",
   "execution_count": 2,
   "metadata": {},
   "outputs": [],
   "source": [
    "def resize_image(img):\n",
    "    #scale_percent = 10 # percent of original size\n",
    "    #width = int(img.shape[1] * scale_percent / 100)\n",
    "    #height = int(img.shape[0] * scale_percent / 100)\n",
    "    #dim = (width, height)\n",
    "    \n",
    "    # resize image\n",
    "    resized = cv2.resize(img, (80,80), interpolation = cv2.INTER_AREA)\n",
    "    \n",
    "    print('Resized Dimensions : ',resized.shape)\n",
    "    \n",
    "    #cv2.imshow(\"Resized image\", resized)\n",
    "    return resized"
   ]
  },
  {
   "cell_type": "code",
   "execution_count": 3,
   "metadata": {},
   "outputs": [
    {
     "name": "stdout",
     "output_type": "stream",
     "text": [
      "Resized Dimensions :  (80, 80, 3)\n",
      "Resized Dimensions :  (80, 80, 3)\n"
     ]
    }
   ],
   "source": [
    "# validating images\n",
    "tick = cv2.imread(\"images/tick.png\")\n",
    "cross = cv2.imread(\"images/cross.png\")\n",
    "\n",
    "tick = resize_image(tick)\n",
    "cross = resize_image(cross)"
   ]
  },
  {
   "cell_type": "code",
   "execution_count": 4,
   "metadata": {},
   "outputs": [],
   "source": [
    "def get_output_layers(net):\n",
    "    layer_names = net.getLayerNames() \n",
    "    output_layers = [layer_names[i[0] - 1] for i in net.getUnconnectedOutLayers()]\n",
    "    return output_layers\n",
    "\n",
    "def draw_bounding_box(img, confidence, x, y, x_plus_w, y_plus_h):\n",
    "    cv2.rectangle(img, (x,y), (x_plus_w,y_plus_h), (0,255,0), 2)\n",
    "    cv2.putText(img, \"Person\", (x-10,y-10), cv2.FONT_HERSHEY_SIMPLEX, 0.5, (255,0,0), 2)"
   ]
  },
  {
   "cell_type": "code",
   "execution_count": 5,
   "metadata": {},
   "outputs": [],
   "source": [
    "net = cv2.dnn.readNet('yolo/yolov3.weights', 'yolo/object-detection-opencv/yolov3.cfg')"
   ]
  },
  {
   "cell_type": "code",
   "execution_count": 6,
   "metadata": {},
   "outputs": [],
   "source": [
    "cascPathface = os.path.dirname(\n",
    "    cv2.__file__) + \"/data/haarcascade_frontalface_alt2.xml\"\n",
    "#cascPatheyes = os.path.dirname(\n",
    "    #cv2.__file__) + \"/data/haarcascade_eye_tree_eyeglasses.xml\""
   ]
  },
  {
   "cell_type": "code",
   "execution_count": 7,
   "metadata": {},
   "outputs": [],
   "source": [
    "faceCascade = cv2.CascadeClassifier(cascPathface)\n",
    "#eyeCascade = cv2.CascadeClassifier(cascPatheyes)"
   ]
  },
  {
   "cell_type": "code",
   "execution_count": 8,
   "metadata": {},
   "outputs": [],
   "source": [
    "model = keras.models.load_model('face_detection/my_model.h5')"
   ]
  },
  {
   "cell_type": "code",
   "execution_count": 9,
   "metadata": {},
   "outputs": [],
   "source": [
    "def detectPerson(frame):\n",
    "    Width = frame.shape[1]\n",
    "    Height = frame.shape[0]\n",
    "    scale = 0.00392\n",
    "    blob = cv2.dnn.blobFromImage(frame, scale, (416,416), (0,0,0), True, crop=False)\n",
    "\n",
    "    net.setInput(blob)\n",
    "\n",
    "    outs = net.forward(get_output_layers(net))\n",
    "    \n",
    "    class_ids = []\n",
    "    confidences = []\n",
    "    boxes = []\n",
    "    conf_threshold = 0.5\n",
    "    nms_threshold = 0.4\n",
    "\n",
    "    for out in outs:\n",
    "        for detection in out:\n",
    "            scores = detection[5:]\n",
    "            class_id = np.argmax(scores)\n",
    "            confidence = scores[class_id]\n",
    "            if confidence > 0.5:\n",
    "                center_x = int(detection[0] * Width)\n",
    "                center_y = int(detection[1] * Height)\n",
    "                w = int(detection[2] * Width)\n",
    "                h = int(detection[3] * Height)\n",
    "                x = center_x - w / 2\n",
    "                y = center_y - h / 2\n",
    "                class_ids.append(class_id)\n",
    "                confidences.append(float(confidence))\n",
    "                boxes.append([x, y, w, h])\n",
    "\n",
    "\n",
    "    indices = cv2.dnn.NMSBoxes(boxes, confidences, conf_threshold, nms_threshold)\n",
    "\n",
    "    for i in indices:\n",
    "        i = i[0]\n",
    "        box = boxes[i]\n",
    "        x = box[0]\n",
    "        y = box[1]\n",
    "        w = box[2]\n",
    "        h = box[3]\n",
    "        \n",
    "        draw_bounding_box(frame, confidences[i], round(x), round(y), round(x+w), round(y+h))\n",
    "\n",
    "    # return frame"
   ]
  },
  {
   "cell_type": "code",
   "execution_count": 10,
   "metadata": {},
   "outputs": [],
   "source": [
    "def detectFace(frame):\n",
    "    gray = cv2.cvtColor(frame, cv2.COLOR_BGR2GRAY)\n",
    "    faces = faceCascade.detectMultiScale(gray,\n",
    "                                         scaleFactor=1.1,\n",
    "                                         minNeighbors=5,\n",
    "                                         minSize=(60, 60),\n",
    "                                         flags=cv2.CASCADE_SCALE_IMAGE)\n",
    "    #print(\"No. of faces detected: \"+str(len(faces)))\n",
    "    \n",
    "    if(len(faces)>0):\n",
    "        face_present=True    \n",
    "\n",
    "        for (x,y,w,h) in faces:\n",
    "            cv2.rectangle(frame, (x, y), (x + w, y + h),(0,255,0), 2)\n",
    "            cv2.putText(frame, 'Face', (x, y-10), cv2.FONT_HERSHEY_SIMPLEX, 0.9, (255, 0, 0), 2)\n",
    "            faceROI = frame[y:y+h,x:x+w]"
   ]
  },
  {
   "cell_type": "code",
   "execution_count": 11,
   "metadata": {},
   "outputs": [],
   "source": [
    "def detectMask(frame, start, tick, cross):\n",
    "    final_image = cv2.resize(frame,(224,224))\n",
    "    final_image = np.expand_dims(final_image,axis = 0)\n",
    "    final_image = final_image/255.0\n",
    "    \n",
    "    predictions = model.predict(final_image)\n",
    "    end=time.time()\n",
    "    clear_output(wait=True)\n",
    "    print(\"FPS: \", 1/(end-start))\n",
    "    alpha = 0.4\n",
    "    if(predictions>0.1):\n",
    "        added_image = cv2.addWeighted(frame[0:80,0:80,:],alpha,cross,1-alpha,0)\n",
    "        frame[0:80,0:80,:] = cross\n",
    "        print(\"No mask!\")\n",
    "    else:\n",
    "        added_image = cv2.addWeighted(frame[0:80,0:80,:],alpha,tick,1-alpha,0)\n",
    "        frame[0:80,0:80,:] = tick\n",
    "        print(\"Mask present!\")"
   ]
  },
  {
   "cell_type": "code",
   "execution_count": null,
   "metadata": {
    "tags": []
   },
   "outputs": [
    {
     "name": "stdout",
     "output_type": "stream",
     "text": [
      "FPS:  11.39391173482416\n",
      "Mask present!\n"
     ]
    }
   ],
   "source": [
    "# determining decison parameters\n",
    "face_present=False\n",
    "person_present=False\n",
    "mask_present=False\n",
    "\n",
    "start=0\n",
    "\n",
    "video_capture = cv2.VideoCapture(\"test.mp4\")\n",
    "frame_width = int(video_capture.get(3)) \n",
    "frame_height = int(video_capture.get(4)) \n",
    "   \n",
    "size = (frame_width, frame_height) \n",
    "\n",
    "result = cv2.VideoWriter('filename.avi',  \n",
    "                         cv2.VideoWriter_fourcc(*'MJPG'), \n",
    "                         10, size) \n",
    "while True:\n",
    "    ret, frame = video_capture.read()\n",
    "    \n",
    "    t1 = threading.Thread(target=detectPerson, args=(frame,))\n",
    "    t2 = threading.Thread(target=detectFace, args=(frame,))\n",
    "    t3 = threading.Thread(target=detectMask, args=(frame,start,tick,cross))\n",
    "    \n",
    "    ########################################### person detection ###########################################\n",
    "    \n",
    "    t1.start()\n",
    "\n",
    "\n",
    "    ########################################### face detection ###########################################\n",
    "    \n",
    "    t2.start()\n",
    "\n",
    "\n",
    "    ########################################### Mask detection ########################################### \n",
    "    \n",
    "    t3.start()\n",
    "\n",
    "\n",
    "\n",
    "\n",
    "    t1.join()\n",
    "    t2.join()\n",
    "    t3.join()\n",
    "\n",
    "    start=time.time()\n",
    "\n",
    "    # Display the resulting frame\n",
    "    #cv2.imshow('Video', frame)\n",
    "    result.write(frame)\n",
    "    \n",
    "    if cv2.waitKey(1) & 0xFF == ord('q'):\n",
    "        break\n",
    "video_capture.release()\n",
    "cv2.destroyAllWindows()"
   ]
  },
  {
   "cell_type": "code",
   "execution_count": null,
   "metadata": {},
   "outputs": [],
   "source": []
  },
  {
   "cell_type": "code",
   "execution_count": null,
   "metadata": {},
   "outputs": [],
   "source": []
  },
  {
   "cell_type": "code",
   "execution_count": null,
   "metadata": {},
   "outputs": [],
   "source": []
  }
 ],
 "metadata": {
  "kernelspec": {
   "display_name": "Python 3",
   "language": "python",
   "name": "python3"
  },
  "language_info": {
   "codemirror_mode": {
    "name": "ipython",
    "version": 3
   },
   "file_extension": ".py",
   "mimetype": "text/x-python",
   "name": "python",
   "nbconvert_exporter": "python",
   "pygments_lexer": "ipython3",
   "version": "3.6.10"
  }
 },
 "nbformat": 4,
 "nbformat_minor": 2
}
